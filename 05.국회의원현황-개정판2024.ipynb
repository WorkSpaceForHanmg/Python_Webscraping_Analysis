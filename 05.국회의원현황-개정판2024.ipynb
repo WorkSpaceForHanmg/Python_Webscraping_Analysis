{
 "cells": [
  {
   "cell_type": "markdown",
   "id": "c421956b-6110-4fef-8cfb-6241aa3df595",
   "metadata": {},
   "source": [
    "### 국회의원 현황정보 수집/분석/시각화/저장\n",
    "* [국회의원현황](https://www.assembly.go.kr/portal/cnts/cntsCont/dataA.do?cntsDivCd=NAAS&menuNo=600137)\n",
    "* 이름과 ID 추출\n",
    "* 상세페이지 정보 추출 (json으로 저장)\n",
    "* 상세정보들을 DataFrame으로 변환\n",
    "* 시각화(막대그래프,히스토그램, 파이챠트, 히트맵)\n",
    "* 테이블로 저장"
   ]
  },
  {
   "cell_type": "code",
   "execution_count": 1,
   "id": "b9c5dd15-33db-4744-a8e8-4d232ad7d097",
   "metadata": {},
   "outputs": [],
   "source": [
    "import requests\n",
    "from bs4 import BeautifulSoup\n",
    "import re\n",
    "\n",
    "headers = {\n",
    "    'user-agent':'Mozilla/5.0 (Windows NT 10.0; Win64; x64) AppleWebKit/537.36 (KHTML, like Gecko) Chrome/74.0.3729.169 Safari/537.36'\n",
    "}\n",
    "# url = f'https://www.assembly.go.kr/portal/cnts/cntsNaas/findNaasThx01.json?pageIndex={index}'\n",
    "\n"
   ]
  },
  {
   "cell_type": "markdown",
   "id": "8f37cfd0-d95b-4c95-94cb-aef1256a2a77",
   "metadata": {},
   "source": [
    "#### Json 일부 데이터와 웹페이지의 상세정보 데이터 가져오기"
   ]
  },
  {
   "cell_type": "code",
   "execution_count": 2,
   "id": "bc7a0398-4e29-418d-96c2-5a4db06015a6",
   "metadata": {},
   "outputs": [
    {
     "name": "stdout",
     "output_type": "stream",
     "text": [
      "===> 스크래핑 시작\n",
      "===> 스크래핑 끝\n"
     ]
    }
   ],
   "source": [
    "import requests\n",
    "from bs4 import BeautifulSoup\n",
    "import re\n",
    "from urllib.parse import urljoin\n",
    "\n",
    "print('===> 스크래핑 시작')\n",
    "\n",
    "print('===> 스크래핑 끝')"
   ]
  },
  {
   "cell_type": "code",
   "execution_count": 3,
   "id": "aea34312-46a3-40c2-a780-fab765f861bd",
   "metadata": {},
   "outputs": [],
   "source": [
    "# member_detail_list 를  data/member.json 파일로 저장하기기\n"
   ]
  },
  {
   "cell_type": "code",
   "execution_count": 4,
   "id": "a9ebf0cf-a43f-4c26-be95-39009240b0dd",
   "metadata": {
    "tags": []
   },
   "outputs": [],
   "source": [
    "# panda의 read_json() 함수로 data/member.json 파일을 읽어온다.\n"
   ]
  },
  {
   "cell_type": "code",
   "execution_count": 5,
   "id": "4c072f18",
   "metadata": {},
   "outputs": [],
   "source": [
    "# import pandas as pd\n",
    "\n",
    "# member_df = pd.DataFrame(columns=['이름','정당','생년월일','당선횟수','선거구','소속위원회','이미지','사무실 전화','사무실 호실',\\\n",
    "#                                   '의원 홈페이지','개별 홈페이지','이메일','보좌관','선임비서관','비서관','의원실 안내'])\n",
    "\n",
    "# for member_detail in member_detail_list:\n",
    "#     df_new_row = pd.DataFrame.from_records([member_detail])\n",
    "#     member_df = pd.concat([member_df, df_new_row])\n",
    "\n",
    "    # dict <=> Series\n",
    "    #series_obj = pd.Series(member_detail)\n",
    "    # Series 객체를 append \n",
    "    #member_df = member_df.append(series_obj, ignore_index=True)\n",
    "    \n",
    "# member_df.head(2)"
   ]
  },
  {
   "cell_type": "code",
   "execution_count": 6,
   "id": "93f535fc-9887-4f33-9087-db87361e5f3c",
   "metadata": {},
   "outputs": [],
   "source": [
    "#member_df.shape"
   ]
  },
  {
   "cell_type": "code",
   "execution_count": 7,
   "id": "22dd495e",
   "metadata": {},
   "outputs": [],
   "source": [
    "# index를 0이 아니라 1부터 시작하도록 변경하기\n"
   ]
  },
  {
   "cell_type": "code",
   "execution_count": 8,
   "id": "ed1331ff",
   "metadata": {},
   "outputs": [],
   "source": [
    "# tail() 함수"
   ]
  },
  {
   "cell_type": "code",
   "execution_count": 9,
   "id": "8d0a155b-8500-4250-8627-f0737f33294a",
   "metadata": {},
   "outputs": [],
   "source": [
    "# info() 함수\n"
   ]
  },
  {
   "cell_type": "code",
   "execution_count": 10,
   "id": "7f6439be-c469-4579-839c-be0eae297367",
   "metadata": {},
   "outputs": [],
   "source": [
    "# unique 한 정당명을 List 형태로 출력하기"
   ]
  },
  {
   "cell_type": "code",
   "execution_count": 11,
   "id": "2f091719-a57a-4383-b7fd-0d71ef1894b9",
   "metadata": {},
   "outputs": [],
   "source": [
    "# 정당명을 Row Counting"
   ]
  },
  {
   "cell_type": "code",
   "execution_count": 12,
   "id": "c75dcc32-7877-46b5-895f-09e761ca5ae2",
   "metadata": {},
   "outputs": [],
   "source": [
    "# 당선횟수를 Row Counting"
   ]
  },
  {
   "cell_type": "code",
   "execution_count": 13,
   "id": "2ac1b3ce-0be3-43b4-bbbc-64a9948c7376",
   "metadata": {},
   "outputs": [],
   "source": [
    "# 선거구를 Row Counting"
   ]
  },
  {
   "cell_type": "code",
   "execution_count": 14,
   "id": "7046cafe-2084-4ae2-9be1-40a6f44daeac",
   "metadata": {},
   "outputs": [],
   "source": [
    "#당선횟수2 컬럼을 새로 추가\n",
    "#재선(20대,21대) -> 재선\n"
   ]
  },
  {
   "cell_type": "code",
   "execution_count": 15,
   "id": "1d93aabb-af5f-4873-8de8-ca5c4d6796c5",
   "metadata": {},
   "outputs": [],
   "source": [
    "#당선횟수2 컬럼의 값을 확인"
   ]
  },
  {
   "cell_type": "code",
   "execution_count": 16,
   "id": "473118c3-ed63-4df6-910f-1137a57fbb89",
   "metadata": {},
   "outputs": [],
   "source": [
    "#6선 국회의원 누구?\n"
   ]
  },
  {
   "cell_type": "code",
   "execution_count": 17,
   "id": "79b7698a-dfe4-4a14-bd44-f808b15f251d",
   "metadata": {},
   "outputs": [],
   "source": [
    "#선거구2 컬럼을 새로 추가\n",
    "#경남창원시성산구 -> 경남\n",
    "\n",
    "#Series객체를 StringMethods 객체로 변환(문자열 슬라이싱을 하기 위해서)\n",
    "\n",
    "#2글자 슬라이싱 값을 선거구2 라는 컬럼으로 저장\n"
   ]
  },
  {
   "cell_type": "code",
   "execution_count": 18,
   "id": "b5b73dd1-6815-4b04-942e-1fee1d1e4b1c",
   "metadata": {},
   "outputs": [],
   "source": [
    "# 선거구2를 Row Counting"
   ]
  },
  {
   "cell_type": "code",
   "execution_count": 19,
   "id": "8cd1ba37-4f95-4e5c-8cc0-0ba25b9d6100",
   "metadata": {},
   "outputs": [],
   "source": [
    "# 선거구를 퍼센트로 Row Counting"
   ]
  },
  {
   "cell_type": "code",
   "execution_count": 20,
   "id": "c275c19e-a1c2-4354-b32b-c1d142b1c344",
   "metadata": {},
   "outputs": [],
   "source": [
    "# 컬럼명 확인하기"
   ]
  },
  {
   "cell_type": "code",
   "execution_count": 21,
   "id": "aee4bc08-a930-4f9e-908d-b4085eab978f",
   "metadata": {},
   "outputs": [],
   "source": [
    "# 이미지 컬럼의 값 확인하기\n"
   ]
  },
  {
   "cell_type": "markdown",
   "id": "a8410d06-a75a-486d-8076-3448d76731ad",
   "metadata": {},
   "source": [
    "### 시각화(Visualization)\n",
    "* Image 출력 - IPython에서 제공하는 Image 객체, display() 함수 사용\n",
    "* seaborn - countplot, distplot, heatmap\n",
    "* matplotlib - histogram, pie chart\n",
    "* 한글폰트 설정"
   ]
  },
  {
   "cell_type": "code",
   "execution_count": null,
   "id": "c0e0c842-28b6-48d5-b2ef-0744439455e2",
   "metadata": {},
   "outputs": [],
   "source": []
  },
  {
   "cell_type": "code",
   "execution_count": 22,
   "id": "2499a28b-fc0a-4fb5-8af6-4d41087bccea",
   "metadata": {},
   "outputs": [],
   "source": [
    "%matplotlib inline"
   ]
  },
  {
   "cell_type": "code",
   "execution_count": 23,
   "id": "35d9ae11-c5f5-4b6e-a17c-34fb6239b33e",
   "metadata": {},
   "outputs": [],
   "source": [
    "import matplotlib\n",
    "import matplotlib.pyplot as plt\n",
    "import matplotlib.font_manager as fm\n",
    "\n",
    "import seaborn as sns"
   ]
  },
  {
   "cell_type": "code",
   "execution_count": 24,
   "id": "bd365a55-597e-4cee-90cd-74875564984a",
   "metadata": {},
   "outputs": [
    {
     "name": "stdout",
     "output_type": "stream",
     "text": [
      "Malgun Gothic\n"
     ]
    }
   ],
   "source": [
    "#한글폰트 설정\n",
    "font_path = 'C:\\\\Windows\\\\Fonts\\\\malgun.ttf'\n",
    "# font의 파일정보로 font name을 알아내기\n",
    "font_prop = fm.FontProperties(fname=font_path).get_name()\n",
    "print(font_prop)\n",
    "# matplotlib의 rc(run command) 함수를 사용해서 폰트이름 설정\n",
    "matplotlib.rc('font', family=font_prop)"
   ]
  },
  {
   "cell_type": "markdown",
   "id": "bfc06c0b-cdfb-4a46-b33b-99732045abbf",
   "metadata": {},
   "source": [
    "#### Seaborn의 막대그래프\n",
    "* barplot - x축과 y축을 둘 다 설정할 수 있음\n",
    "* countplot - x축 이나 y축 중에서 하나만 설정할 수 있음"
   ]
  },
  {
   "cell_type": "code",
   "execution_count": null,
   "id": "6117fef3-8d66-4733-9858-b82fffa61d25",
   "metadata": {},
   "outputs": [],
   "source": [
    "# 정당별 Row Counting\n",
    "member_df['정당'].value_counts()"
   ]
  },
  {
   "cell_type": "code",
   "execution_count": 26,
   "id": "f824031e-2a29-45c3-977b-ef590534f9c5",
   "metadata": {},
   "outputs": [],
   "source": [
    "# 정당별 Row Counting 한 Series 객체의 index \n"
   ]
  },
  {
   "cell_type": "code",
   "execution_count": 27,
   "id": "f19cc1ec-5bf8-4a7d-9452-4cfc2496cb0d",
   "metadata": {},
   "outputs": [],
   "source": [
    "# Figure와 Axes 객체 생성하기\n",
    "\n",
    "# Seaborn 의 countplot() 함수 호출하기 - 정당, 당선횟수2\n"
   ]
  },
  {
   "cell_type": "code",
   "execution_count": 28,
   "id": "b68f4b51-c762-45d1-a905-3318adedb521",
   "metadata": {},
   "outputs": [],
   "source": [
    "#선거구2 컬럼을 값으로  countplot 그리기\n"
   ]
  },
  {
   "cell_type": "code",
   "execution_count": 29,
   "id": "98028b2c-14d3-4243-af88-3485abe35e2a",
   "metadata": {},
   "outputs": [],
   "source": [
    "#row count를 %(퍼센티지) 비율로 나타내려면 normalize=True 로 설정\n"
   ]
  },
  {
   "cell_type": "code",
   "execution_count": 30,
   "id": "dabb6f6f-7b74-47aa-a742-8cb5665e15a1",
   "metadata": {},
   "outputs": [],
   "source": [
    "#matplotlib의 pie chart 그리기\n",
    "#figure size 설정\n",
    "\n",
    "\n",
    "#autopct는 값의 퍼센티지 포맷을 설정\n",
    "#startangle은 첫번째 pie의 각도 설정\n",
    "\n",
    "#pie plot를 그릴때 원의 형태를 유지하도록 하는 설정\n"
   ]
  },
  {
   "cell_type": "code",
   "execution_count": 31,
   "id": "4e303ce7-c2db-489c-a6ed-71f066d0a3aa",
   "metadata": {},
   "outputs": [],
   "source": [
    "# 기존의 DataFrame 객체를 복사하여 table_df 라는 변수의 새로운 DataFrame 객체를 생성한다.\n"
   ]
  },
  {
   "cell_type": "code",
   "execution_count": 32,
   "id": "ee0ca40d-d824-453a-ada1-3f67dc680e95",
   "metadata": {},
   "outputs": [],
   "source": [
    "#컬럼명 변경 - '선거구2':'선거구','당선횟수2':'당선횟수'\n"
   ]
  },
  {
   "cell_type": "code",
   "execution_count": null,
   "id": "bb529d60-cdfa-4ba2-86f9-c475783f6a9b",
   "metadata": {},
   "outputs": [],
   "source": []
  },
  {
   "cell_type": "code",
   "execution_count": 33,
   "id": "76287e25-3bcf-4274-bf97-306e99b327cd",
   "metadata": {},
   "outputs": [],
   "source": [
    "# table_df를  member 테이블로 저장하기"
   ]
  }
 ],
 "metadata": {
  "kernelspec": {
   "display_name": "base",
   "language": "python",
   "name": "python3"
  },
  "language_info": {
   "codemirror_mode": {
    "name": "ipython",
    "version": 3
   },
   "file_extension": ".py",
   "mimetype": "text/x-python",
   "name": "python",
   "nbconvert_exporter": "python",
   "pygments_lexer": "ipython3",
   "version": "3.12.7"
  }
 },
 "nbformat": 4,
 "nbformat_minor": 5
}
