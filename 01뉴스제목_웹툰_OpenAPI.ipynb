{
 "cells": [
  {
   "cell_type": "markdown",
   "id": "eb0bfa44",
   "metadata": {},
   "source": [
    "## 1. 뉴스제목 가져오기\n",
    "* user-agent 요청헤더를 반드시 설정해야 한다."
   ]
  },
  {
   "cell_type": "code",
   "execution_count": 1,
   "id": "f0d27781",
   "metadata": {},
   "outputs": [
    {
     "name": "stdout",
     "output_type": "stream",
     "text": [
      "Name: requests\n",
      "Version: 2.32.3\n",
      "Summary: Python HTTP for Humans.\n",
      "Home-page: https://requests.readthedocs.io\n",
      "Author: Kenneth Reitz\n",
      "Author-email: me@kennethreitz.org\n",
      "License: Apache-2.0\n",
      "Location: c:\\Users\\user\\anaconda3\\Lib\\site-packages\n",
      "Requires: certifi, charset-normalizer, idna, urllib3\n",
      "Required-by: anaconda-catalogs, anaconda-client, anaconda-cloud-auth, anaconda-project, conda, conda-build, conda-repo-cli, conda_package_streaming, cookiecutter, datashader, jupyterlab_server, panel, requests-file, requests-toolbelt, Sphinx, streamlit, tldextract\n",
      "Note: you may need to restart the kernel to use updated packages.\n"
     ]
    }
   ],
   "source": [
    "# requests 라이브러리 설치여부 확인\n",
    "%pip show requests"
   ]
  },
  {
   "cell_type": "code",
   "execution_count": 2,
   "id": "f7798ea8",
   "metadata": {},
   "outputs": [
    {
     "name": "stdout",
     "output_type": "stream",
     "text": [
      "Name: beautifulsoup4\n",
      "Version: 4.12.3\n",
      "Summary: Screen-scraping library\n",
      "Home-page: https://www.crummy.com/software/BeautifulSoup/bs4/\n",
      "Author: \n",
      "Author-email: Leonard Richardson <leonardr@segfault.org>\n",
      "License: MIT License\n",
      "Location: c:\\Users\\user\\anaconda3\\Lib\\site-packages\n",
      "Requires: soupsieve\n",
      "Required-by: conda-build, nbconvert\n",
      "Note: you may need to restart the kernel to use updated packages.\n"
     ]
    }
   ],
   "source": [
    "# beautifulsoup4 라이브러리 설치여부 확인\n",
    "%pip show beautifulsoup4"
   ]
  },
  {
   "cell_type": "code",
   "execution_count": 6,
   "id": "bf80a429",
   "metadata": {},
   "outputs": [],
   "source": [
    "# reqeusts, bs4 import\n",
    "import requests\n",
    "import bs4 \n",
    "# BeautifulSoup 클래스 import\n",
    "from bs4 import BeautifulSoup\n",
    "\n",
    "#불러다가 쓸꺼니까 import 한다."
   ]
  },
  {
   "cell_type": "code",
   "execution_count": 7,
   "id": "9788d6ac",
   "metadata": {},
   "outputs": [
    {
     "name": "stdout",
     "output_type": "stream",
     "text": [
      "requests 버전 2.32.3\n",
      "beautifulsoup4 버전 4.12.3\n"
     ]
    }
   ],
   "source": [
    "# requests, bs4 버전 확인하기\n",
    "print(f'requests 버전 {requests.__version__}')\n",
    "print(f'beautifulsoup4 버전 {bs4.__version__}')"
   ]
  },
  {
   "cell_type": "markdown",
   "id": "ccb91def-cde3-4aeb-b0e5-2e7233500333",
   "metadata": {},
   "source": [
    "### 1. 뉴스 제목 추출하기"
   ]
  },
  {
   "cell_type": "code",
   "execution_count": null,
   "id": "94c12fd6",
   "metadata": {},
   "outputs": [
    {
     "name": "stdout",
     "output_type": "stream",
     "text": [
      "https://news.naver.com/section/105\n",
      "<Response [200]>\n",
      "<class 'requests.models.Response'>\n",
      "200 True\n",
      "86\n",
      "<class 'bs4.element.ResultSet'>\n",
      "https://n.news.naver.com/mnews/article/008/0005177334 금융과 통신의 결합…기업은행, SKT와 AI로 보이스피싱 막는다\n",
      "https://n.news.naver.com/mnews/article/comment/008/0005177334 \n",
      "https://n.news.naver.com/mnews/article/015/0005116019 뤼튼·시나몬·무빈·스튜디오랩…AI 스타트업에 자금 몰린다\n",
      "https://n.news.naver.com/mnews/article/comment/015/0005116019 \n",
      "https://n.news.naver.com/mnews/article/138/0002194241 우주항공청, 주요국과 동맹 가속…“공동 연구개발 단초 마련”\n",
      "https://n.news.naver.com/mnews/article/comment/138/0002194241 \n",
      "https://n.news.naver.com/mnews/article/032/0003361960 악성 스팸문자, 발송단계에서 ‘X-ray’로 차단한다\n",
      "https://n.news.naver.com/mnews/article/comment/032/0003361960 \n",
      "https://n.news.naver.com/mnews/article/092/0002369794 패혈증 치료 가능한 '나노항생물질' 개발…\"슈퍼박테리아도 잡을 수 있을까\"\n",
      "https://n.news.naver.com/mnews/article/comment/092/0002369794 \n",
      "https://n.news.naver.com/mnews/article/009/0005472817 “1초만에 99.5% 정확도로 상품 인식”…신세계아이앤씨, AI 리테일테크 시장 정조준\n",
      "https://n.news.naver.com/mnews/article/comment/009/0005472817 \n",
      "https://n.news.naver.com/mnews/article/011/0004471577 카카오메이커스, 누적 거래액 1조 원 돌파…출범 9년 만\n",
      "https://n.news.naver.com/mnews/article/comment/011/0004471577 \n",
      "https://n.news.naver.com/mnews/article/092/0002369827 리플 \"전 세계 금융 시장, 실물자산 토큰화 중심으로 근본 변화\"\n",
      "https://n.news.naver.com/mnews/article/comment/092/0002369827 \n",
      "https://n.news.naver.com/mnews/article/421/0008180569 에이비엘바이오, '4조 기술이전' 후 첫 공식석상…로드맵 밝힌다\n",
      "https://n.news.naver.com/mnews/article/comment/421/0008180569 \n",
      "https://n.news.naver.com/mnews/article/421/0008180565 \"의료계 제안 논의하자\"…의협, 정부·국회에 '대화의 장' 요구\n",
      "https://n.news.naver.com/mnews/article/comment/421/0008180565 \n",
      "https://n.news.naver.com/mnews/article/081/0003531724 항암제 피하는 암세포 꼼수 발견…악성 폐암도 잡는다\n",
      "https://n.news.naver.com/mnews/article/comment/081/0003531724 \n",
      "https://n.news.naver.com/mnews/article/421/0008180537 뤼튼 \"무료전략으로 생활형 AI 시대 열 것…올해 천만 MAU 목표\"\n",
      "https://n.news.naver.com/mnews/article/comment/421/0008180537 \n",
      "https://n.news.naver.com/mnews/article/032/0003361993 첫 한국계 ‘NASA 우주비행사’ 조니 김, 마침내 지구 궤도로 떠났다\n",
      "https://n.news.naver.com/mnews/article/comment/032/0003361993 \n",
      "https://n.news.naver.com/mnews/article/015/0005116525 질병청, 세계 첫 단백질 재조합 탄저백신 '배리트락스' 상용화\n",
      "https://n.news.naver.com/mnews/article/comment/015/0005116525 \n",
      "https://n.news.naver.com/mnews/article/092/0002369818 트럼프 관세, 세계경제 큰 타격…美中 충돌로 더 증폭\n",
      "https://n.news.naver.com/mnews/article/comment/092/0002369818 \n",
      "https://n.news.naver.com/mnews/article/366/0001067643 [100세 과학] 노년 건강 유지엔 채식보다 육식\n",
      "https://n.news.naver.com/mnews/article/comment/366/0001067643 \n",
      "https://n.news.naver.com/mnews/article/018/0005982461 [사고]스테이블코인 vs CBDC…디지털금융 대세는 어디로?\n",
      "https://n.news.naver.com/mnews/article/comment/018/0005982461 \n",
      "https://n.news.naver.com/mnews/article/021/0002701758 폐암 면역치료 새 전략 찾았다…면역항암 막는 핵심인자 최초로 발견\n",
      "https://n.news.naver.com/mnews/article/comment/021/0002701758 \n",
      "https://n.news.naver.com/mnews/article/092/0002369817 \"갤럭시S26 울트라, 카메라 사양 등 전작과 큰 변화 없다\"\n",
      "https://n.news.naver.com/mnews/article/comment/092/0002369817 \n",
      "https://n.news.naver.com/mnews/article/092/0002369816 구영배 \"위시 살려야\" 주장에 피해자들 분통…\"차라리 처벌 받아라\"\n",
      "https://n.news.naver.com/mnews/article/comment/092/0002369816 \n",
      "https://n.news.naver.com/mnews/article/092/0002369815 관세 폭탄에 스마트폰 공장 美로 옮긴다?…\"가능성 희박\"\n",
      "https://n.news.naver.com/mnews/article/comment/092/0002369815 \n",
      "https://n.news.naver.com/mnews/article/015/0005116508 전국에 딱 500대만 풀린다…'한정판 갤럭시S25'의 정체\n",
      "https://n.news.naver.com/mnews/article/comment/015/0005116508 \n",
      "https://n.news.naver.com/mnews/article/030/0003301337 [6G 코리아] ④ 이통3사, AI-RAN 시장 개척 주도\n",
      "https://n.news.naver.com/mnews/article/comment/030/0003301337 \n",
      "https://n.news.naver.com/mnews/article/015/0005116502 한바이오 \"모유두세포로 탈모 정복하겠다\"\n",
      "https://n.news.naver.com/mnews/article/comment/015/0005116502 \n",
      "https://n.news.naver.com/mnews/article/293/0000065879 뤼튼, 감정 교류도 하는 'AI 비서' 낸다\n",
      "https://n.news.naver.com/mnews/article/comment/293/0000065879 \n",
      "https://n.news.naver.com/mnews/article/092/0002369813 온라인서 예금토큰 결제 지연…9일부터 순차적으로 진행\n",
      "https://n.news.naver.com/mnews/article/comment/092/0002369813 \n",
      "https://n.news.naver.com/mnews/article/030/0003301326 법인 가상자산 투자 허용, 금융 생태계 지각변동 예고...우덕수 블록데몬 아시아 대표 “기관 대상 상품 본격화”\n",
      "https://n.news.naver.com/mnews/article/comment/030/0003301326 \n",
      "https://n.news.naver.com/mnews/article/366/0001067631 美와 AI 격차 좁힌 中…한국은 AI 투자 줄어\n",
      "https://n.news.naver.com/mnews/article/comment/366/0001067631 \n",
      "https://n.news.naver.com/mnews/article/030/0003301320 LS전선, 대한전선 상대 특허 최종 승소…양측 상고 포기\n",
      "https://n.news.naver.com/mnews/article/comment/030/0003301320 \n",
      "https://n.news.naver.com/mnews/article/023/0003898272 사람 태워 산속 누빈다... 늑대 닮은 日 4족보행 로봇 공개\n",
      "https://n.news.naver.com/mnews/article/comment/023/0003898272 \n",
      "https://n.news.naver.com/mnews/article/030/0003301315 삼성전자 시장예상 뛰어넘은 1분기 실적...매출 79조·영업익 6.6조\n",
      "https://n.news.naver.com/mnews/article/comment/030/0003301315 \n",
      "https://n.news.naver.com/mnews/article/421/0008180285 '2인 체제' 방통위 논란 여전…이대로면 '줄소송' 가능성\n",
      "https://n.news.naver.com/mnews/article/comment/421/0008180285 \n",
      "https://n.news.naver.com/mnews/article/015/0005116490 \"영락없는 자녀 목소린데\"…AI 보이스피싱, AI로 방지\n",
      "https://n.news.naver.com/mnews/article/comment/015/0005116490 \n",
      "https://n.news.naver.com/mnews/article/138/0002194264 DDR5 가격 불 붙인 中 CXMT…삼성⋅SK '반사이익' 장기화 기대 [소부장반차장]\n",
      "https://n.news.naver.com/mnews/article/comment/138/0002194264 \n",
      "https://n.news.naver.com/mnews/article/029/0002946687 100년간 해킹 불가… 팬시코인, 세계 최초 `양자암호내성 블록체인 지갑` 승인\n",
      "https://n.news.naver.com/mnews/article/comment/029/0002946687 \n",
      "https://n.news.naver.com/mnews/article/030/0003301302 중소 알뜰폰 '저가형'에 대기업 알뜰폰, '이색 요금제'\n",
      "https://n.news.naver.com/mnews/article/comment/030/0003301302 \n",
      "https://n.news.naver.com/mnews/article/421/0008180265 질병청, 국내 기술로 최초 단백질 탄저백신 개발…'26년 결실'(종합)\n",
      "https://n.news.naver.com/mnews/article/comment/421/0008180265 \n",
      "https://n.news.naver.com/mnews/article/030/0003301301 [IT구루 간담회] AI 에이전트 등 응용분야 육성 전략, 인재양성 패러다임 전환해야\n",
      "https://n.news.naver.com/mnews/article/comment/030/0003301301 \n",
      "https://n.news.naver.com/mnews/article/277/0005574594 \"가구 배치, 옷 코디도 도와준다\"…제미나이 라이브 갤S25 적용\n",
      "https://n.news.naver.com/mnews/article/comment/277/0005574594 \n",
      "https://n.news.naver.com/mnews/article/030/0003301290 매그나칩, DDI 사업 청산…임직원 해고 통보\n",
      "https://n.news.naver.com/mnews/article/comment/030/0003301290 \n",
      "https://n.news.naver.com/mnews/article/009/0005472676 상금 30억원 내건 슈퍼센트, ‘제4회 슈퍼센트 게임 챌린지’ 개최\n",
      "https://n.news.naver.com/mnews/article/comment/009/0005472676 \n",
      "https://n.news.naver.com/mnews/article/584/0000031781 항생제 내성 슈퍼박테리아, 나노입자 결합시켜 열로 제거한다\n",
      "https://n.news.naver.com/mnews/article/comment/584/0000031781 \n",
      "https://n.news.naver.com/mnews/article/366/0001067619 MS가 주목한 韓 스타트업 뤼튼 “전 국민 맞춤형 AI 시대 만든다”\n",
      "https://n.news.naver.com/mnews/article/comment/366/0001067619 \n"
     ]
    }
   ],
   "source": [
    "# IT/과학 뉴스 \n",
    "req_param = {\n",
    "    'sid': 105          #딕셔너리 \n",
    "                        #sid 번호에 따라 사이트가 바뀌기에\n",
    "}\n",
    "# \n",
    "url = 'https://news.naver.com/section/{sid}'.format(**req_param) #딕셔너리 넣을땐 앞에 **추가\n",
    "print(url)\n",
    "\n",
    "#url2 = 'https://news.naver.com/section/105'\n",
    "\n",
    "# 요청 헤더 설정 : 브라우저 정보 (사람처럼 보이게 하려고 설정하는 것임)\n",
    "req_header = {\n",
    "    'user-agent': 'Mozilla/5.0 (Windows NT 10.0; Win64; x64) AppleWebKit/537.36 (KHTML, like Gecko) Chrome/104.0.0.0 Safari/537.36'\n",
    "}\n",
    "\n",
    "# requests 의 get() 함수 호출하기 \n",
    "res = requests.get(url, headers=req_header)\n",
    "print(res)\n",
    "print(type(res))\n",
    "print(res.status_code, res.ok)\n",
    "\n",
    "# 응답(response)이 OK 이면\n",
    "if res.ok:\n",
    "    # 응답 (response)에서 text 추출 - source 보기\n",
    "    html = res.text\n",
    "    # print(html)\n",
    "    # BeautifulSoup 객체 생성  \n",
    "    soup = BeautifulSoup(html, 'html.parser')\n",
    "    #print(soup)\n",
    "    \n",
    "    # CSS 선택자\n",
    "    # <div class = 'sa_text'><a></a></div>\n",
    "    #print(len(soup.select(\"div.sa_text a\")))\n",
    "    print(len(soup.select(\"div.sa_text a[href*='mnews/article']\")))\n",
    "    # print(soup.select(\"div.sa_text a[href*='mnews/article']\"))\n",
    "    a_tag_list = soup.select(\"div.sa_text a[href*='mnews/article']\")\n",
    "    print(type(a_tag_list)) # [<a href =\"http://\">뉴스제목</a>] ResultSet객체 , <a></a> : Tag 객체\n",
    "    #print(a_tag_list) #[<a></a>,<a></a>]\n",
    "    for a_tag in a_tag_list:\n",
    "        #print(type(a_tag))\n",
    "        title = a_tag.text.strip() #strip() 공백을 제거하는 함수\n",
    "        link = a_tag['href']   #herf 속성의 값을 가져온ㄷ나\n",
    "        print(link, title) \n",
    "        \n",
    "    # <a> 태그 리스트 순회하기    \n",
    "else:\n",
    "    # 응답(response)이 Error 이면 status code 출력    \n",
    "    print(f'에러 코드 = {res.status_code}')\n"
   ]
  },
  {
   "cell_type": "markdown",
   "id": "45640860-a449-4285-90d7-5f300292b461",
   "metadata": {},
   "source": [
    "### 1.1 뉴스제목 추출하는 함수 선언하기"
   ]
  },
  {
   "cell_type": "code",
   "execution_count": null,
   "id": "9f2e4ef8",
   "metadata": {},
   "outputs": [
    {
     "name": "stdout",
     "output_type": "stream",
     "text": [
      "====> https://news.naver.com/section/103 생활/문화뉴스 <====\n",
      "<Response [200]>\n",
      "<class 'requests.models.Response'>\n",
      "200 True\n",
      "0\n",
      "https://n.news.naver.com/mnews/article/079/0004011520 예장통합 포항노회·포항남노회, 제110회 정기노회 개최\n",
      "https://n.news.naver.com/mnews/article/comment/079/0004011520 \n",
      "https://n.news.naver.com/mnews/article/056/0011927221 이영애, 32년 만에 연극 복귀…‘헤다 가블러’ 주연\n",
      "https://n.news.naver.com/mnews/article/comment/056/0011927221 \n",
      "https://n.news.naver.com/mnews/article/001/0015317849 삼바 축제·가면 조사하는 국립민속박물관…'세계민속관' 만든다(종합)\n",
      "https://n.news.naver.com/mnews/article/comment/001/0015317849 \n",
      "https://n.news.naver.com/mnews/article/003/0013170003 푸조, '308 스마트 하이브리드' 출시…\"차세대 모델\"\n",
      "https://n.news.naver.com/mnews/article/comment/003/0013170003 \n",
      "https://n.news.naver.com/mnews/article/009/0005472819 KGM, 사모전환사채 전환 청구 및 자본금 감액 정정 공시\n",
      "https://n.news.naver.com/mnews/article/comment/009/0005472819 \n",
      "https://n.news.naver.com/mnews/article/011/0004471612 '통일교' 가정연합 \"日 법원 해산 명령은 '종교 탄압'\"\n",
      "https://n.news.naver.com/mnews/article/comment/011/0004471612 \n",
      "https://n.news.naver.com/mnews/article/009/0005472589 “452km 달린다”…KGM, 상품성 개선 ‘토레스 EVX 알파’ 출시\n",
      "https://n.news.naver.com/mnews/article/comment/009/0005472589 \n",
      "https://n.news.naver.com/mnews/article/145/0000021876 회사 칫솔, 거의 1년째 쓰고 있는데요…\n",
      "https://n.news.naver.com/mnews/article/comment/145/0000021876 \n",
      "https://n.news.naver.com/mnews/article/296/0000088402 소화 안되고 집중력 떨어진다면, ‘이것’ 때문?…이런 음식 먹으면 도움\n",
      "https://n.news.naver.com/mnews/article/comment/296/0000088402 \n",
      "https://n.news.naver.com/mnews/article/214/0001416868 [날씨] 메마른 대기, 바람도 강해‥내일 오후 차츰 비\n",
      "https://n.news.naver.com/mnews/article/comment/214/0001416868 \n",
      "https://n.news.naver.com/mnews/article/023/0003898306 ‘5분’이 중요합니다! 당장 응급실 가야할 협심증 전조증상\n",
      "https://n.news.naver.com/mnews/article/comment/023/0003898306 \n",
      "https://n.news.naver.com/mnews/article/346/0000090106 “스스로에게 ‘이 생각’ 세뇌시켰더니”… 살 쭉 빠졌다, 구체적인 방법은?\n",
      "https://n.news.naver.com/mnews/article/comment/346/0000090106 \n",
      "https://n.news.naver.com/mnews/article/052/0002177258 [날씨] 건조특보 확대·황사 남쪽 이동...내일은 단비\n",
      "https://n.news.naver.com/mnews/article/comment/052/0002177258 \n",
      "https://n.news.naver.com/mnews/article/277/0005574760 제너시스BBQ, 위메프 인수의향서 제출…\"재무제표 검토 단계\"\n",
      "https://n.news.naver.com/mnews/article/comment/277/0005574760 \n",
      "https://n.news.naver.com/mnews/article/081/0003531785 600년간 바다에 잠들어있던 조선시대 배 인양…마도4호선 인양\n",
      "https://n.news.naver.com/mnews/article/comment/081/0003531785 \n",
      "https://n.news.naver.com/mnews/article/047/0002469029 계엄군 봉쇄 뚫은 길목... 광주와 전남 이어준 나주를 찾아\n",
      "https://n.news.naver.com/mnews/article/comment/047/0002469029 \n",
      "https://n.news.naver.com/mnews/article/014/0005333010 '남 입었던 거면 어때'..고물가에 중고거래 패션몰 뜬다\n",
      "https://n.news.naver.com/mnews/article/comment/014/0005333010 \n",
      "https://n.news.naver.com/mnews/article/031/0000922884 \"키 크면 암 더 잘 걸려\"⋯사실일까?\n",
      "https://n.news.naver.com/mnews/article/comment/031/0000922884 \n",
      "https://n.news.naver.com/mnews/article/057/0001880541 팔굽혀펴기로 치매 예방하기?…근육량 증가하면 당뇨·치매 위험 낮아져 [Health Recipe]\n",
      "https://n.news.naver.com/mnews/article/comment/057/0001880541 \n",
      "https://n.news.naver.com/mnews/article/006/0000129392 '대통령 명예훼손' 압수수색 당한 뉴스타파 기자들, 영화로 만난다\n",
      "https://n.news.naver.com/mnews/article/comment/006/0000129392 \n",
      "https://n.news.naver.com/mnews/article/009/0005472873 단순 건망증?… 치매 예방 위해 기억력 개선에 힘써야\n",
      "https://n.news.naver.com/mnews/article/comment/009/0005472873 \n",
      "https://n.news.naver.com/mnews/article/009/0005472869 휴대폰에, 집안일에…하루종일 쉴틈 없는 손 당신의 손가락, 안녕하십니까\n",
      "https://n.news.naver.com/mnews/article/comment/009/0005472869 \n",
      "https://n.news.naver.com/mnews/article/009/0005472863 국내외 특허만 19건 … 추간공확장술로 척추 치료 새 지평 열어\n",
      "https://n.news.naver.com/mnews/article/comment/009/0005472863 \n",
      "https://n.news.naver.com/mnews/article/009/0005472862 \"무병장수의 꿈 'GLP-1'이 이뤄줄 수 있습니다\"\n",
      "https://n.news.naver.com/mnews/article/comment/009/0005472862 \n",
      "https://n.news.naver.com/mnews/article/009/0005472861 잘 낫지않는 날개 뼈 사이 통증 … 목 디스크 의심하세요\n",
      "https://n.news.naver.com/mnews/article/comment/009/0005472861 \n",
      "https://n.news.naver.com/mnews/article/009/0005472860 인기 많은 귓속형 보청기… 꽁꽁 숨기려다 '기능' 놓칠수도 [기고]\n",
      "https://n.news.naver.com/mnews/article/comment/009/0005472860 \n",
      "https://n.news.naver.com/mnews/article/009/0005472859 야외활동 많아지는 봄철 어깨충돌증후군 '주의보'\n",
      "https://n.news.naver.com/mnews/article/comment/009/0005472859 \n",
      "https://n.news.naver.com/mnews/article/009/0005472858 2030 우울증 알고보니 … 탈모가 원인?\n",
      "https://n.news.naver.com/mnews/article/comment/009/0005472858 \n",
      "https://n.news.naver.com/mnews/article/009/0005472857 봄철 면역관리 … 고함량 비타민으로 해볼까\n",
      "https://n.news.naver.com/mnews/article/comment/009/0005472857 \n",
      "https://n.news.naver.com/mnews/article/009/0005472856 '암 이기는 천연항암제' 정보 암환우 체력관리법 알려줘요\n",
      "https://n.news.naver.com/mnews/article/comment/009/0005472856 \n",
      "https://n.news.naver.com/mnews/article/009/0005472855 SK바사, 폐렴구균백신 상용화 '눈앞'\n",
      "https://n.news.naver.com/mnews/article/comment/009/0005472855 \n",
      "https://n.news.naver.com/mnews/article/422/0000729053 [날씨] 영남 중심 대기 건조…내일 오후부터 전국 비\n",
      "https://n.news.naver.com/mnews/article/comment/422/0000729053 \n",
      "https://n.news.naver.com/mnews/article/009/0005472852 5분 충전에 700km 7년만에 환골탈태 넥쏘 수소차 대중화 앞당긴다\n",
      "https://n.news.naver.com/mnews/article/comment/009/0005472852 \n",
      "https://n.news.naver.com/mnews/article/009/0005472850 럭셔리 명가는 영원하다 … 수입차 빅2 대격돌\n",
      "https://n.news.naver.com/mnews/article/comment/009/0005472850 \n",
      "https://n.news.naver.com/mnews/article/009/0005472849 더 진화한 초럭셔리 세단 …'환희의 여신'이 이끄는 완벽한 주행\n",
      "https://n.news.naver.com/mnews/article/comment/009/0005472849 \n",
      "https://n.news.naver.com/mnews/article/009/0005472848 내 움직임에 반응하는 엔진·진동… \"그래, 이 맛에 내연차 타지\"\n",
      "https://n.news.naver.com/mnews/article/comment/009/0005472848 \n",
      "https://n.news.naver.com/mnews/article/018/0005982575 KG모빌리티, 무상감자 정정… 1조 결손금 해소 본격화\n",
      "https://n.news.naver.com/mnews/article/comment/018/0005982575 \n",
      "https://n.news.naver.com/mnews/article/346/0000090105 잇따르는 ‘마사지 사망’ 사고… 도대체 왜?\n",
      "https://n.news.naver.com/mnews/article/comment/346/0000090105 \n",
      "https://n.news.naver.com/mnews/article/215/0001205016 폴리코사놀 허위 원산지 표기 성행…'쿠바산' 아닌 '중국산'\n",
      "https://n.news.naver.com/mnews/article/comment/215/0001205016 \n",
      "https://n.news.naver.com/mnews/article/296/0000088400 인공감미료 '사카린'의 대반전?…'항생제 내성' 없앤다\n",
      "https://n.news.naver.com/mnews/article/comment/296/0000088400 \n",
      "https://n.news.naver.com/mnews/article/346/0000090104 “이 얼굴이 53세?” 신분증 없으면 복권도 못 사… ‘초동안 외모’ 남성, 관리법은?\n",
      "https://n.news.naver.com/mnews/article/comment/346/0000090104 \n",
      "https://n.news.naver.com/mnews/article/030/0003301403 BYD, 첫 전기차 '아토3' 14일 고객 인도…'씨라이언7' 사전 계약 시작\n",
      "https://n.news.naver.com/mnews/article/comment/030/0003301403 \n",
      "https://n.news.naver.com/mnews/article/469/0000858336 글로벌 청정에너지 40% 돌파··· 한국 재생에너지 세계 3분의 1\n",
      "https://n.news.naver.com/mnews/article/comment/469/0000858336 \n"
     ]
    }
   ],
   "source": [
    "import requests\n",
    "from bs4 import BeautifulSoup\n",
    "\n",
    "section_dict = {\n",
    "    100: \"정치\",\n",
    "    101: \"경제\",\n",
    "    102: \"사회\",\n",
    "    103: \"생활/문화\",\n",
    "    104: \"세계\",\n",
    "    105: \"IT/과학\",\n",
    "}\n",
    "\n",
    "\n",
    "def print_news(sid):  # print_new(103)\n",
    "    section = section_dict[sid]\n",
    "    req_param = {\"sid\": sid}\n",
    "    ## req_param  잘모르겠으면 지워버리고\n",
    "    # url = f\"https://news.naver.com/section/{sid}\"\n",
    "    url = \"https://news.naver.com/section/{sid}\".format(**req_param)\n",
    "    print(f\"====> {url} {section}뉴스 <====\")\n",
    "    req_header = {\n",
    "        \"user-agent\": \"Mozilla/5.0 (Windows NT 10.0; Win64; x64) AppleWebKit/537.36 (KHTML, like Gecko) Chrome/104.0.0.0 Safari/537.36\"\n",
    "    }\n",
    "\n",
    "\n",
    "    # requests 의 get() 함수 호출하기\n",
    "    res = requests.get(url, headers=req_header) \n",
    "    print(res)\n",
    "    print(type(res))\n",
    "    print(res.status_code, res.ok)\n",
    "    if res.ok:\n",
    "        # 응답 (response)에서 text 추출 - source 보기\n",
    "        html = res.text\n",
    "        # print(html)\n",
    "        # BeautifulSoup 객체 생성  \n",
    "        soup = BeautifulSoup(html, 'html.parser')\n",
    "        #print(soup)\n",
    "        \n",
    "        # CSS 선택자\n",
    "        # <div class = 'sa_text'><a></a></div>\n",
    "        #print(len(soup.select(\"div.sa_text a\")))\n",
    "        print(len(soup.select(\"div.sa_text a[href*='mnews/article']\")))\n",
    "        # print(soup.select(\"div.sa_text a[href*='mnews/article']\"))\n",
    "        a_tag_list = soup.select(\"div.sa_text a[href*='mnews/article']\")\n",
    "        print(type(a_tag_list)) # [<a href =\"http://\">뉴스제목</a>] ResultSet객체 , <a></a> : Tag 객체\n",
    "        #print(a_tag_list) #[<a></a>,<a></a>]\n",
    "        for a_tag in a_tag_list:\n",
    "            #print(type(a_tag))\n",
    "            title = a_tag.text.strip() #strip() 공백을 제거하는 함수\n",
    "            link = a_tag['href']   #herf 속성의 값을 가져온ㄷ나\n",
    "            print(link, title) \n",
    "        \n",
    "        \n",
    "    else:\n",
    "        # 응답(response)이 Error 이면 status code 출력    \n",
    "       print(f'에러 코드 = {res.status_code}')\n",
    "\n",
    "    \n",
    "\n",
    "#함수호출\n",
    "print_news(103)"
   ]
  },
  {
   "cell_type": "markdown",
   "id": "323196dc",
   "metadata": {},
   "source": [
    "### 2. Image 다운로드\n",
    "* referer 요청 헤더를 반드시 설정해야 한다."
   ]
  },
  {
   "cell_type": "code",
   "execution_count": null,
   "id": "c72d6cb1",
   "metadata": {},
   "outputs": [
    {
     "name": "stdout",
     "output_type": "stream",
     "text": [
      "200\n",
      "writing to 20220804112251_d97bd1e1b38f0cd022e4e3639d2926b3_IMAG01_1.jpg(299,319 bytes)\n",
      "200\n",
      "writing to 20220804112251_d97bd1e1b38f0cd022e4e3639d2926b3_IMAG01_2.jpg(163,333 bytes)\n",
      "200\n",
      "writing to 20220804112251_d97bd1e1b38f0cd022e4e3639d2926b3_IMAG01_3.jpg(182,530 bytes)\n"
     ]
    }
   ],
   "source": [
    "import requests\n",
    "import os\n",
    "\n",
    "req_header = {\n",
    "    'referer':''\n",
    "}\n",
    "\n",
    "img_urls = [\n",
    "    'https://image-comic.pstatic.net/webtoon/798173/5/20220804112251_d97bd1e1b38f0cd022e4e3639d2926b3_IMAG01_1.jpg',\n",
    "    'https://image-comic.pstatic.net/webtoon/798173/5/20220804112251_d97bd1e1b38f0cd022e4e3639d2926b3_IMAG01_2.jpg',\n",
    "    'https://image-comic.pstatic.net/webtoon/798173/5/20220804112251_d97bd1e1b38f0cd022e4e3639d2926b3_IMAG01_3.jpg'\n",
    "]\n",
    "\n",
    "for img_url in img_urls:\n",
    "    pass\n",
    "    # requests 의 get(url, headers) 함수 호출하기 \n",
    "        \n",
    "        # binary 응답 데이터 가져오기\n",
    "        \n",
    "        # url에서 파일명만 추출하기\n",
    "        \n",
    "        # binday data를 file에 write하기\n"
   ]
  },
  {
   "cell_type": "markdown",
   "id": "e8b00a04",
   "metadata": {},
   "source": [
    "* 현재 요청된 페이지의 image 모두 다운로드 해보기"
   ]
  },
  {
   "cell_type": "code",
   "execution_count": null,
   "id": "b30f7bf5",
   "metadata": {},
   "outputs": [],
   "source": []
  },
  {
   "cell_type": "markdown",
   "id": "2ac9f5f9",
   "metadata": {},
   "source": [
    "### 3. 파일 업로드 하기\n",
    "* http://httpbin.org/post 업로드 요청을 할 수 있는 url"
   ]
  },
  {
   "cell_type": "code",
   "execution_count": null,
   "id": "04da4790",
   "metadata": {},
   "outputs": [
    {
     "name": "stdout",
     "output_type": "stream",
     "text": [
      "200\n"
     ]
    }
   ],
   "source": [
    "import requests\n",
    "\n",
    "upload_files = {\n",
    "    \n",
    "}\n",
    "#print(upload_files)\n",
    "\n",
    "url = 'http://httpbin.org/post'\n",
    "# file 업로드 하려면 requests의 post 함수에 files 속성을 사용합니다.\n",
    "\n"
   ]
  },
  {
   "cell_type": "markdown",
   "id": "7ad65f12",
   "metadata": {},
   "source": [
    "### 4. 캡챠(이미지) API 호출하기\n",
    "* urllib 사용\n",
    "* 1. 캡차 키 발급 요청\n",
    "  2. 캡차 이미지 요청\n",
    "  3. 사용자 입력값 검증 요청"
   ]
  },
  {
   "cell_type": "code",
   "execution_count": 2,
   "id": "bc4ae360-e772-4873-8642-d3494edd34e1",
   "metadata": {},
   "outputs": [],
   "source": [
    "# 캡차 키 발급 요청\n"
   ]
  },
  {
   "cell_type": "code",
   "execution_count": 1,
   "id": "7b95b6a0-c218-4792-82a6-da4d80872071",
   "metadata": {},
   "outputs": [],
   "source": [
    "# 캡차 이미지 요청\n"
   ]
  },
  {
   "cell_type": "code",
   "execution_count": 3,
   "id": "a79076af-2cd0-4de2-8301-316b9130c55e",
   "metadata": {},
   "outputs": [],
   "source": [
    "#  사용자 입력값 검증 요청\n",
    "\n"
   ]
  },
  {
   "cell_type": "markdown",
   "id": "b7d984a6",
   "metadata": {},
   "source": [
    "* requests를 사용하는 코드로 변경하기\n",
    "* [requests docs](https://requests.readthedocs.io/en/latest/user/quickstart/)"
   ]
  },
  {
   "cell_type": "code",
   "execution_count": null,
   "id": "727b427b",
   "metadata": {
    "scrolled": true
   },
   "outputs": [
    {
     "name": "stdout",
     "output_type": "stream",
     "text": [
      "Error Code: 403\n"
     ]
    }
   ],
   "source": [
    "# 사용자 입력값 검증 요청\n",
    "\n"
   ]
  },
  {
   "cell_type": "markdown",
   "id": "d5e1179a",
   "metadata": {},
   "source": [
    "### 5. 블로그 검색하기"
   ]
  },
  {
   "cell_type": "code",
   "execution_count": null,
   "id": "877d0c7f",
   "metadata": {},
   "outputs": [],
   "source": [
    "import requests\n",
    "import pprint\n",
    "\n",
    "headers = {\n",
    "    'X-Naver-Client-Id': '',\n",
    "    'X-Naver-Client-Secret': '',\n",
    "}\n",
    "\n",
    "payload = {\n",
    "    'query': '파이썬',\n",
    "    'display': 100,\n",
    "    'sort': 'sim'\n",
    "}\n",
    "\n",
    "url = 'https://openapi.naver.com/v1/search/blog.json'\n",
    "\n",
    "\n",
    "# requests get(url, params, headers) 요청 \n",
    "\n",
    "# json() 함수로 응답 결과 가져오오기\n",
    "# 'title' , 'bloggername' , 'description' , 'bloggerlink' , 'link'\n",
    "\n",
    "# 'data/nhnblog.txt' 파일 생성하기\n"
   ]
  }
 ],
 "metadata": {
  "kernelspec": {
   "display_name": "base",
   "language": "python",
   "name": "python3"
  },
  "language_info": {
   "codemirror_mode": {
    "name": "ipython",
    "version": 3
   },
   "file_extension": ".py",
   "mimetype": "text/x-python",
   "name": "python",
   "nbconvert_exporter": "python",
   "pygments_lexer": "ipython3",
   "version": "3.12.7"
  }
 },
 "nbformat": 4,
 "nbformat_minor": 5
}
